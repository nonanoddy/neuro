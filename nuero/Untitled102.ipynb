{
 "cells": [
  {
   "cell_type": "code",
   "execution_count": 6,
   "id": "31e5cd65",
   "metadata": {},
   "outputs": [
    {
     "name": "stdout",
     "output_type": "stream",
     "text": [
      "Output of the network: 0.5675911770136643\n"
     ]
    }
   ],
   "source": [
    "def tanh(x):\n",
    "    \n",
    "    e_pos = (2.718281828459045) ** x\n",
    "    e_neg = (2.718281828459045) ** (-x)\n",
    "    return (e_pos - e_neg) / (e_pos + e_neg)\n",
    "\n",
    "def dot_product(v1, v2):\n",
    "    return sum(x * y for x, y in zip(v1, v2))\n",
    "\n",
    "def initialize_weights(size):\n",
    "   \n",
    "    weights = []\n",
    "    seed = 0.1  \n",
    "    for _ in range(size):\n",
    "        seed = (seed * 3.7) % 1  \n",
    "        weights.append(seed - 0.5)  \n",
    "    return weights\n",
    "\n",
    "def forward_pass(X, weights1, weights2, b1, b2):\n",
    "    Z1 = dot_product(X, weights1) + b1\n",
    "    A1 = tanh(Z1)\n",
    "    Z2 = dot_product([A1], weights2) + b2\n",
    "    A2 = tanh(Z2)\n",
    "    return A2\n",
    "\n",
    "X = [0.5, -0.2]\n",
    "input_size = len(X)\n",
    "hidden_layer_size = 3\n",
    "output_size = 1\n",
    "\n",
    "weights1 = initialize_weights(input_size)\n",
    "weights2 = initialize_weights(hidden_layer_size)\n",
    "\n",
    "b1 = 0.5\n",
    "b2 = 0.7\n",
    "\n",
    "output = forward_pass(X, weights1, weights2, b1, b2)\n",
    "print(\"Output of the network:\", output)"
   ]
  },
  {
   "cell_type": "code",
   "execution_count": null,
   "id": "d5b5633f",
   "metadata": {},
   "outputs": [],
   "source": []
  }
 ],
 "metadata": {
  "kernelspec": {
   "display_name": "Python 3 (ipykernel)",
   "language": "python",
   "name": "python3"
  },
  "language_info": {
   "codemirror_mode": {
    "name": "ipython",
    "version": 3
   },
   "file_extension": ".py",
   "mimetype": "text/x-python",
   "name": "python",
   "nbconvert_exporter": "python",
   "pygments_lexer": "ipython3",
   "version": "3.11.3"
  }
 },
 "nbformat": 4,
 "nbformat_minor": 5
}
